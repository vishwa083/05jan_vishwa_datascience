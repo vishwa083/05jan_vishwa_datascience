{
 "cells": [
  {
   "cell_type": "markdown",
   "id": "023a02d5",
   "metadata": {},
   "source": [
    "# ASSIGNMENT QUESTIONS:\n",
    "# 1) How to create an empty and a full numpy array "
   ]
  },
  {
   "cell_type": "code",
   "execution_count": 1,
   "id": "2a39486a",
   "metadata": {},
   "outputs": [
    {
     "name": "stdout",
     "output_type": "stream",
     "text": [
      "Empty array = [[[ 1.68248127e-019  2.10314364e+239]\n",
      "  [ 7.18826120e-170 -3.47929487e-308]\n",
      "  [ 1.47088025e-226  2.91913699e-232]]\n",
      "\n",
      " [[-1.58592490e-152 -3.43406768e-115]\n",
      "  [ 6.79964950e-242 -4.69901202e-196]\n",
      "  [-1.46659145e-152 -3.10294549e+097]]\n",
      "\n",
      " [[-1.20569866e+112  5.49647099e-005]\n",
      "  [-3.55206503e+178  3.97558943e-267]\n",
      "  [ 2.84217942e-101 -1.22252825e+140]]\n",
      "\n",
      " [[ 3.64901540e+017  1.89796723e+051]\n",
      "  [ 1.14355391e-091  5.93754870e-058]\n",
      "  [ 6.16371366e-247  6.72738870e-285]]]\n"
     ]
    }
   ],
   "source": [
    "import numpy as np\n",
    "a=np.empty((4,3,2))\n",
    "print(\"Empty array =\",a)"
   ]
  },
  {
   "cell_type": "code",
   "execution_count": 2,
   "id": "e5ef38d4",
   "metadata": {},
   "outputs": [
    {
     "name": "stdout",
     "output_type": "stream",
     "text": [
      "Full array = [[7 7]\n",
      " [7 7]]\n"
     ]
    }
   ],
   "source": [
    "b=np.full((2,2),7)\n",
    "print(\"Full array =\",b)"
   ]
  },
  {
   "cell_type": "markdown",
   "id": "f8cedeb0",
   "metadata": {},
   "source": [
    "# 2) Create a numpy array filled with all zeros"
   ]
  },
  {
   "cell_type": "code",
   "execution_count": 6,
   "id": "a4c8fb28",
   "metadata": {},
   "outputs": [
    {
     "name": "stdout",
     "output_type": "stream",
     "text": [
      "Zeros array = [[0. 0. 0.]\n",
      " [0. 0. 0.]\n",
      " [0. 0. 0.]\n",
      " [0. 0. 0.]]\n"
     ]
    }
   ],
   "source": [
    "a=np.zeros((4,3))\n",
    "print(\"Zeros array =\",a)"
   ]
  },
  {
   "cell_type": "markdown",
   "id": "76941bd8",
   "metadata": {},
   "source": [
    "# 3) Create a numpy array filled with all ones"
   ]
  },
  {
   "cell_type": "code",
   "execution_count": 31,
   "id": "8cfff161",
   "metadata": {},
   "outputs": [
    {
     "name": "stdout",
     "output_type": "stream",
     "text": [
      "Ones array = [[1. 1. 1.]\n",
      " [1. 1. 1.]\n",
      " [1. 1. 1.]\n",
      " [1. 1. 1.]]\n"
     ]
    }
   ],
   "source": [
    "b=np.ones((4,3))\n",
    "print(\"Ones array =\",b)"
   ]
  },
  {
   "cell_type": "markdown",
   "id": "55ebf294",
   "metadata": {},
   "source": [
    "# 4) Check whether a numpy array contains a specified row"
   ]
  },
  {
   "cell_type": "code",
   "execution_count": 36,
   "id": "9f5de4fc",
   "metadata": {},
   "outputs": [
    {
     "name": "stdout",
     "output_type": "stream",
     "text": [
      "The specified row exists in the array.\n"
     ]
    }
   ],
   "source": [
    "array = np.array([[1, 2, 3],\n",
    "                  [4, 5, 6],\n",
    "                  [7, 8, 9]])\n",
    "\n",
    "a = np.array([4, 5, 6])\n",
    "\n",
    "b = np.any(np.all(array == a, axis=1))\n",
    "\n",
    "if b:\n",
    "    print(\"The specified row exists in the array.\")\n",
    "else:\n",
    "    print(\"The specified row does not exist in the array.\")"
   ]
  },
  {
   "cell_type": "markdown",
   "id": "6f402ad3",
   "metadata": {},
   "source": [
    "# 5) How to remove rows in numpy array that contains non-numeric values"
   ]
  },
  {
   "cell_type": "code",
   "execution_count": 39,
   "id": "5c2e43b9",
   "metadata": {},
   "outputs": [
    {
     "name": "stdout",
     "output_type": "stream",
     "text": [
      "Original Array:\n",
      "[['1' '2' 'g' '3']\n",
      " ['4' '8' '5' '6']\n",
      " ['7' '8' 'i' '9']]\n",
      "\n",
      "Array after removing specified rows:\n",
      "[['4' '8' '5' '6']]\n"
     ]
    }
   ],
   "source": [
    "arr1 = np.array([[1, 2, 'g', 3], [4, 8, 5, 6], [7, 8, 'i', 9]])\n",
    "\n",
    "remove = [0, 2]\n",
    "\n",
    "arr2 = np.delete(arr1, remove, axis=0)\n",
    "\n",
    "print(\"Original Array:\")\n",
    "print(arr1)\n",
    "print(\"\\nArray after removing specified rows:\")\n",
    "print(arr2)"
   ]
  },
  {
   "cell_type": "markdown",
   "id": "b7cd0fef",
   "metadata": {},
   "source": [
    "# 6) Remove singal dimensional entries from the shape of an array"
   ]
  },
  {
   "cell_type": "code",
   "execution_count": 42,
   "id": "1a6b38df",
   "metadata": {},
   "outputs": [
    {
     "name": "stdout",
     "output_type": "stream",
     "text": [
      "Original Shape: (1, 1, 3)\n",
      "Shape after changing: (3,)\n"
     ]
    }
   ],
   "source": [
    "arr1 = np.array([[[1, 2, 3]]])\n",
    "\n",
    "print(\"Original Shape:\", arr1.shape)\n",
    "\n",
    "arr2 = np.ravel(arr1)\n",
    "\n",
    "print(\"Shape after changing:\", arr2.shape)"
   ]
  },
  {
   "cell_type": "markdown",
   "id": "9e0155df",
   "metadata": {},
   "source": [
    "# 7) Find the number of occurences of a sequence in a numpy array"
   ]
  },
  {
   "cell_type": "code",
   "execution_count": 47,
   "id": "0bc71d69",
   "metadata": {},
   "outputs": [
    {
     "name": "stdout",
     "output_type": "stream",
     "text": [
      "Number of occurences of a sequence is 4\n"
     ]
    }
   ],
   "source": [
    "arr = np.array([[2, 8, 9, 4], \n",
    "                [9, 4, 9, 4], \n",
    "                [4, 5, 9, 7], \n",
    "                [2, 9, 4, 3]]) \n",
    " \n",
    "arr2 = repr(arr).count(\"9, 4\") \n",
    "\n",
    "print(\"Number of occurences of a sequence is\",output) \n"
   ]
  },
  {
   "cell_type": "markdown",
   "id": "04c60c31",
   "metadata": {},
   "source": [
    "# 8) Find the most frequent value in a numpy array"
   ]
  },
  {
   "cell_type": "code",
   "execution_count": 63,
   "id": "0c5fe958",
   "metadata": {},
   "outputs": [
    {
     "name": "stdout",
     "output_type": "stream",
     "text": [
      "Original array = [1 2 1 3 6 2 5 1 2 2 3 2 2 5 2 4 2 6 2 5 1 6]\n",
      "Most frequent value in the above array is  2\n"
     ]
    }
   ],
   "source": [
    "arr = np.array([1,2,1,3,6,2,5,1,2,2,3,2,2,5,2,4,2,6,2,5,1,6])\n",
    "print(\"Original array =\",arr)\n",
    "arr2 = np.bincount(arr).argmax()\n",
    "print(\"Most frequent value in the above array is \",arr2)"
   ]
  },
  {
   "cell_type": "markdown",
   "id": "eaf7bbed",
   "metadata": {},
   "source": [
    "# 9) Combining a one and a two dimensional numpy array"
   ]
  },
  {
   "cell_type": "code",
   "execution_count": 68,
   "id": "9fccb8c5",
   "metadata": {},
   "outputs": [
    {
     "name": "stdout",
     "output_type": "stream",
     "text": [
      "[[1 2 3 4]\n",
      " [1 2 3 4]\n",
      " [5 6 7 8]]\n"
     ]
    }
   ],
   "source": [
    "arr1=np.array([1,2,3,4])\n",
    "arr2=np.array([[1,2,3,4],\n",
    "               [5,6,7,8]])\n",
    "arr3=np.vstack([arr1,arr2])\n",
    "print(arr3)"
   ]
  },
  {
   "cell_type": "markdown",
   "id": "6dc3001c",
   "metadata": {},
   "source": [
    "# 10) How to build an array of all combinations of two numpy arrays"
   ]
  },
  {
   "cell_type": "code",
   "execution_count": 76,
   "id": "8b588a7e",
   "metadata": {},
   "outputs": [
    {
     "name": "stdout",
     "output_type": "stream",
     "text": [
      "Array 1: [1 2 3]\n",
      "\n",
      "Array 2: ['a' 'b' 'c']\n",
      "\n",
      "Combined array of all combinations: [['1' 'a']\n",
      " ['2' 'a']\n",
      " ['3' 'a']\n",
      " ['1' 'b']\n",
      " ['2' 'b']\n",
      " ['3' 'b']\n",
      " ['1' 'c']\n",
      " ['2' 'c']\n",
      " ['3' 'c']]\n"
     ]
    }
   ],
   "source": [
    "arr1 = np.array([1, 2, 3])\n",
    "arr2 = np.array(['a', 'b', 'c'])\n",
    "\n",
    "grid1, grid2 = np.meshgrid(arr1, arr2)\n",
    "\n",
    "arr3 = np.column_stack((grid1.ravel(), grid2.ravel()))\n",
    "\n",
    "print(\"Array 1:\",arr1)\n",
    "\n",
    "print(\"\\nArray 2:\",arr2)\n",
    "\n",
    "print(\"\\nCombined array of all combinations:\",arr3)"
   ]
  }
 ],
 "metadata": {
  "kernelspec": {
   "display_name": "Python 3 (ipykernel)",
   "language": "python",
   "name": "python3"
  },
  "language_info": {
   "codemirror_mode": {
    "name": "ipython",
    "version": 3
   },
   "file_extension": ".py",
   "mimetype": "text/x-python",
   "name": "python",
   "nbconvert_exporter": "python",
   "pygments_lexer": "ipython3",
   "version": "3.11.5"
  }
 },
 "nbformat": 4,
 "nbformat_minor": 5
}
