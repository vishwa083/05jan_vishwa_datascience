{
 "cells": [
  {
   "cell_type": "markdown",
   "id": "a9b88c20",
   "metadata": {},
   "source": [
    "# 1. What do you understand by Natural Language Processing?"
   ]
  },
  {
   "cell_type": "code",
   "execution_count": null,
   "id": "bd26adad",
   "metadata": {},
   "outputs": [],
   "source": [
    "Natural Language Processing (NLP) is a field of artificial intelligence that focuses on enabling computers to understand, \n",
    "interpret, and generate human language in a way that is both meaningful and useful. It involves the interaction between\n",
    "computers and humans through natural language."
   ]
  },
  {
   "cell_type": "markdown",
   "id": "0186b743",
   "metadata": {},
   "source": [
    "# 2. What are the steps involved in solving an NLP problem?"
   ]
  },
  {
   "cell_type": "code",
   "execution_count": null,
   "id": "a2f79fde",
   "metadata": {},
   "outputs": [],
   "source": [
    "1) Data Acquisition: Obtain relevant textual data.\n",
    "\n",
    "2) Text Preprocessing: Tokenization, normalization (lowercase, punctuation removal), stopwords removal, and \n",
    "lemmatization/stemming.\n",
    "\n",
    "3) Feature Extraction: Convert text into numerical features (e.g., Bag-of-Words, TF-IDF, Word Embeddings).\n",
    "\n",
    "4) Model Selection: Choose an appropriate model based on the task (e.g., classification, sequence modeling).\n",
    "\n",
    "5) Model Training: Train the selected model on preprocessed data.\n",
    "\n",
    "6) Model Evaluation: Assess model performance using metrics like accuracy, F1-score, or BLEU score.\n",
    "\n",
    "7) Deployment: Deploy the trained model for real-time processing or integrate it into applications."
   ]
  },
  {
   "cell_type": "markdown",
   "id": "4b7fd4b0",
   "metadata": {},
   "source": [
    "# 3. What is an ensemble method in NLP? With Example."
   ]
  },
  {
   "cell_type": "code",
   "execution_count": null,
   "id": "44715ba5",
   "metadata": {},
   "outputs": [],
   "source": [
    "An ensemble method in NLP combines predictions from multiple models to improve accuracy and robustness. For example,\n",
    "in sentiment analysis, ensemble methods might blend predictions from different classifiers like SVM, Naive Bayes, \n",
    "and Neural Networks to achieve more reliable results across various datasets and conditions."
   ]
  }
 ],
 "metadata": {
  "kernelspec": {
   "display_name": "Python 3 (ipykernel)",
   "language": "python",
   "name": "python3"
  },
  "language_info": {
   "codemirror_mode": {
    "name": "ipython",
    "version": 3
   },
   "file_extension": ".py",
   "mimetype": "text/x-python",
   "name": "python",
   "nbconvert_exporter": "python",
   "pygments_lexer": "ipython3",
   "version": "3.11.5"
  }
 },
 "nbformat": 4,
 "nbformat_minor": 5
}
